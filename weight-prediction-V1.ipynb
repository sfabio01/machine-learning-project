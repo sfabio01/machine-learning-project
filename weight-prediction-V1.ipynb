{
 "cells": [
  {
   "cell_type": "markdown",
   "metadata": {},
   "source": [
    "# Linear regression\n",
    "A simple linear regression model that predict a person's weight from its height"
   ]
  },
  {
   "cell_type": "code",
   "execution_count": 9,
   "metadata": {},
   "outputs": [],
   "source": [
    "# imports\n",
    "import pandas as pd\n",
    "import numpy as np\n"
   ]
  },
  {
   "cell_type": "code",
   "execution_count": 10,
   "metadata": {},
   "outputs": [
    {
     "name": "stdout",
     "output_type": "stream",
     "text": [
      "     height  weight\n",
      "0       174      96\n",
      "1       189      87\n",
      "2       185     110\n",
      "3       195     104\n",
      "4       149      61\n",
      "..      ...     ...\n",
      "495     150     153\n",
      "496     184     121\n",
      "497     141     136\n",
      "498     150      95\n",
      "499     173     131\n",
      "\n",
      "[500 rows x 2 columns]\n"
     ]
    }
   ],
   "source": [
    "# read dataset\n",
    "filename = \"datasets/500_Person_Gender_Height_Weight_Index\"\n",
    "df = pd.read_csv(f\"{filename}.csv\", usecols=[1,2], header=0, names=[\"height\", \"weight\"])\n",
    "print(df)\n"
   ]
  },
  {
   "cell_type": "code",
   "execution_count": 11,
   "metadata": {},
   "outputs": [],
   "source": [
    "# useful functions\n",
    "def split_train_test(df, p):\n",
    "    \"\"\"\n",
    "    Takes a dataframe and the number of data in the train set.\n",
    "    Returns a list of dataframes.\n",
    "    \"\"\"\n",
    "    n = int(p*len(df))\n",
    "    train = df.iloc[0:n, :]\n",
    "    test = df.iloc[n:len(df), :]\n",
    "    return train, test\n"
   ]
  },
  {
   "cell_type": "code",
   "execution_count": 12,
   "metadata": {},
   "outputs": [
    {
     "name": "stdout",
     "output_type": "stream",
     "text": [
      "     height  weight\n",
      "0       174      96\n",
      "1       189      87\n",
      "2       185     110\n",
      "3       195     104\n",
      "4       149      61\n",
      "..      ...     ...\n",
      "245     151     114\n",
      "246     182      98\n",
      "247     142     159\n",
      "248     188      90\n",
      "249     161      89\n",
      "\n",
      "[250 rows x 2 columns]\n",
      "     height  weight\n",
      "250     153      70\n",
      "251     140     143\n",
      "252     169     141\n",
      "253     162     159\n",
      "254     183     147\n",
      "..      ...     ...\n",
      "495     150     153\n",
      "496     184     121\n",
      "497     141     136\n",
      "498     150      95\n",
      "499     173     131\n",
      "\n",
      "[250 rows x 2 columns]\n"
     ]
    }
   ],
   "source": [
    "# split dataset into train and test\n",
    "train_df, test_df = split_train_test(df, 0.5)\n",
    "\n",
    "print(train_df)\n",
    "print(test_df)\n",
    "\n",
    "# create array-like objects for train and test data\n",
    "x_train = train_df[\"height\"]\n",
    "y_train = train_df[\"weight\"]\n",
    "\n",
    "x_train = np.array(x_train)\n",
    "y_train = np.array(y_train)\n",
    "\n",
    "x_test = test_df[\"height\"]\n",
    "y_test = test_df[\"weight\"]\n",
    "\n",
    "x_test = np.array(x_test)\n",
    "y_test = np.array(y_test)\n"
   ]
  },
  {
   "cell_type": "markdown",
   "metadata": {},
   "source": [
    "## Train the model"
   ]
  },
  {
   "cell_type": "code",
   "execution_count": 13,
   "metadata": {},
   "outputs": [
    {
     "name": "stdout",
     "output_type": "stream",
     "text": [
      "loss: 5392.616 \t(1/100)\n",
      "loss: 3219.748640885197 \t(2/100)\n",
      "loss: 2141.6909708451794 \t(3/100)\n",
      "loss: 1606.817848119935 \t(4/100)\n",
      "loss: 1341.4431189382292 \t(5/100)\n",
      "loss: 1209.778718007929 \t(6/100)\n",
      "loss: 1144.454051597086 \t(7/100)\n",
      "loss: 1112.0435245325875 \t(8/100)\n",
      "loss: 1095.9631889703307 \t(9/100)\n",
      "loss: 1087.9849991665822 \t(10/100)\n",
      "loss: 1084.0266499068412 \t(11/100)\n",
      "loss: 1082.0627251465962 \t(12/100)\n",
      "loss: 1081.0883244833014 \t(13/100)\n",
      "loss: 1080.6048714285498 \t(14/100)\n",
      "loss: 1080.3649996620934 \t(15/100)\n",
      "loss: 1080.2459795771115 \t(16/100)\n",
      "loss: 1080.1869194710655 \t(17/100)\n",
      "loss: 1080.1576082194026 \t(18/100)\n",
      "loss: 1080.143056718374 \t(19/100)\n",
      "loss: 1080.1358281964426 \t(20/100)\n",
      "loss: 1080.1322329352759 \t(21/100)\n",
      "loss: 1080.130440298917 \t(22/100)\n",
      "loss: 1080.129542026165 \t(23/100)\n",
      "loss: 1080.1290874876045 \t(24/100)\n",
      "loss: 1080.1288531056255 \t(25/100)\n",
      "loss: 1080.1287279532737 \t(26/100)\n",
      "loss: 1080.128656994677 \t(27/100)\n",
      "loss: 1080.1286129240514 \t(28/100)\n",
      "loss: 1080.1285821937654 \t(29/100)\n",
      "loss: 1080.1285580822262 \t(30/100)\n",
      "loss: 1080.1285372545476 \t(31/100)\n",
      "loss: 1080.1285180561426 \t(32/100)\n",
      "loss: 1080.1284996660956 \t(33/100)\n",
      "loss: 1080.128481677113 \t(34/100)\n",
      "loss: 1080.1284638871182 \t(35/100)\n",
      "loss: 1080.1284461958526 \t(36/100)\n",
      "loss: 1080.1284285535717 \t(37/100)\n",
      "loss: 1080.128410935597 \t(38/100)\n",
      "loss: 1080.1283933296827 \t(39/100)\n",
      "loss: 1080.128375729754 \t(40/100)\n",
      "loss: 1080.1283581327968 \t(41/100)\n",
      "loss: 1080.1283405373158 \t(42/100)\n",
      "loss: 1080.1283229425685 \t(43/100)\n",
      "loss: 1080.1283053481873 \t(44/100)\n",
      "loss: 1080.128287753989 \t(45/100)\n",
      "loss: 1080.1282701598836 \t(46/100)\n",
      "loss: 1080.1282525658255 \t(47/100)\n",
      "loss: 1080.128234971793 \t(48/100)\n",
      "loss: 1080.128217377775 \t(49/100)\n",
      "loss: 1080.1281997837655 \t(50/100)\n",
      "loss: 1080.1281821897621 \t(51/100)\n",
      "loss: 1080.128164595763 \t(52/100)\n",
      "loss: 1080.1281470017686 \t(53/100)\n",
      "loss: 1080.1281294077778 \t(54/100)\n",
      "loss: 1080.1281118137902 \t(55/100)\n",
      "loss: 1080.1280942198061 \t(56/100)\n",
      "loss: 1080.1280766258258 \t(57/100)\n",
      "loss: 1080.1280590318486 \t(58/100)\n",
      "loss: 1080.128041437875 \t(59/100)\n",
      "loss: 1080.1280238439044 \t(60/100)\n",
      "loss: 1080.1280062499372 \t(61/100)\n",
      "loss: 1080.1279886559737 \t(62/100)\n",
      "loss: 1080.1279710620133 \t(63/100)\n",
      "loss: 1080.1279534680564 \t(64/100)\n",
      "loss: 1080.127935874103 \t(65/100)\n",
      "loss: 1080.127918280153 \t(66/100)\n",
      "loss: 1080.127900686206 \t(67/100)\n",
      "loss: 1080.127883092263 \t(68/100)\n",
      "loss: 1080.1278654983228 \t(69/100)\n",
      "loss: 1080.127847904386 \t(70/100)\n",
      "loss: 1080.1278303104527 \t(71/100)\n",
      "loss: 1080.1278127165226 \t(72/100)\n",
      "loss: 1080.1277951225964 \t(73/100)\n",
      "loss: 1080.127777528673 \t(74/100)\n",
      "loss: 1080.1277599347532 \t(75/100)\n",
      "loss: 1080.1277423408371 \t(76/100)\n",
      "loss: 1080.1277247469238 \t(77/100)\n",
      "loss: 1080.1277071530144 \t(78/100)\n",
      "loss: 1080.127689559108 \t(79/100)\n",
      "loss: 1080.127671965205 \t(80/100)\n",
      "loss: 1080.1276543713054 \t(81/100)\n",
      "loss: 1080.1276367774094 \t(82/100)\n",
      "loss: 1080.1276191835163 \t(83/100)\n",
      "loss: 1080.1276015896271 \t(84/100)\n",
      "loss: 1080.1275839957414 \t(85/100)\n",
      "loss: 1080.1275664018583 \t(86/100)\n",
      "loss: 1080.127548807979 \t(87/100)\n",
      "loss: 1080.127531214103 \t(88/100)\n",
      "loss: 1080.1275136202305 \t(89/100)\n",
      "loss: 1080.1274960263613 \t(90/100)\n",
      "loss: 1080.1274784324955 \t(91/100)\n",
      "loss: 1080.1274608386332 \t(92/100)\n",
      "loss: 1080.1274432447744 \t(93/100)\n",
      "loss: 1080.1274256509187 \t(94/100)\n",
      "loss: 1080.1274080570663 \t(95/100)\n",
      "loss: 1080.1273904632171 \t(96/100)\n",
      "loss: 1080.1273728693718 \t(97/100)\n",
      "loss: 1080.1273552755295 \t(98/100)\n",
      "loss: 1080.1273376816907 \t(99/100)\n",
      "loss: 1080.1273200878554 \t(100/100)\n"
     ]
    }
   ],
   "source": [
    "# set initial values for learnable parameters\n",
    "a = 1\n",
    "b = 0\n",
    "\n",
    "lr = 0.000005\n",
    "epochs = 100\n",
    "\n",
    "n = len(x_train)\n",
    "\n",
    "for i in range(epochs):\n",
    "    y = a*x_train + b\n",
    "    error = y - y_train\n",
    "    loss = np.sum(error**2)/n\n",
    "    loss_a = 2*np.sum(error*x_train)/n\n",
    "    loss_b = 2*np.sum(error)/n\n",
    "    a = a - loss_a*lr\n",
    "    b = b - loss_b*lr\n",
    "    print(f\"loss: {loss} \\t({i+1}/{epochs})\")\n",
    "    "
   ]
  },
  {
   "cell_type": "code",
   "execution_count": 14,
   "metadata": {},
   "outputs": [
    {
     "name": "stdout",
     "output_type": "stream",
     "text": [
      "a: 0.6180621000699592\n",
      "b: -0.0012728011322712892\n"
     ]
    }
   ],
   "source": [
    "print(f\"a: {a}\")\n",
    "print(f\"b: {b}\")"
   ]
  },
  {
   "cell_type": "markdown",
   "metadata": {},
   "source": [
    "## Test the model"
   ]
  },
  {
   "cell_type": "code",
   "execution_count": 15,
   "metadata": {},
   "outputs": [],
   "source": [
    "from sklearn.metrics import r2_score\n",
    "import matplotlib.pyplot as plt\n"
   ]
  },
  {
   "cell_type": "code",
   "execution_count": 16,
   "metadata": {},
   "outputs": [
    {
     "name": "stdout",
     "output_type": "stream",
     "text": [
      "R2 Score: -0.10492199124828705\n"
     ]
    },
    {
     "data": {
      "image/png": "[encoded data removed]",
      "text/plain": [
       "<Figure size 720x720 with 1 Axes>"
      ]
     },
     "metadata": {
      "needs_background": "light"
     },
     "output_type": "display_data"
    }
   ],
   "source": [
    "y_prediction = a*x_test + b\n",
    "print(f\"R2 Score: {r2_score(y_test, y_prediction)}\")\n",
    "\n",
    "y_plot = []\n",
    "for i in range(200):\n",
    "    y_plot.append(b + a * i)\n",
    "plt.figure(figsize=(10, 10))\n",
    "plt.scatter(x_test, y_test, color='red', label='GT')\n",
    "plt.plot(range(len(y_plot)), y_plot, color='black', label='pred')\n",
    "plt.legend()\n",
    "plt.show()\n"
   ]
  }
 ],
 "metadata": {
  "interpreter": {
   "hash": "916dbcbb3f70747c44a77c7bcd40155683ae19c65e1c03b4aa3499c5328201f1"
  },
  "kernelspec": {
   "display_name": "Python 3.8.10 64-bit",
   "language": "python",
   "name": "python3"
  },
  "language_info": {
   "codemirror_mode": {
    "name": "ipython",
    "version": 3
   },
   "file_extension": ".py",
   "mimetype": "text/x-python",
   "name": "python",
   "nbconvert_exporter": "python",
   "pygments_lexer": "ipython3",
   "version": "3.8.10"
  },
  "orig_nbformat": 4
 },
 "nbformat": 4,
 "nbformat_minor": 2
}
