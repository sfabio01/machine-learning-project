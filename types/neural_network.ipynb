{
 "cells": [
  {
   "cell_type": "code",
   "execution_count": 14,
   "metadata": {},
   "outputs": [
    {
     "name": "stdout",
     "output_type": "stream",
     "text": [
      "NeuralNetwork object\n",
      "Layers: [3, 2, 1]\n",
      "Shape of weight matrices: [(2, 3),(1, 2)]\n",
      "\n"
     ]
    }
   ],
   "source": [
    "import numpy as np\n",
    "\n",
    "class NeuralNetwork:\n",
    "    def __init__(self, layers: list):\n",
    "        # at least an input and an output layer\n",
    "        assert len(layers) >= 2 \n",
    "        self.layers = layers\n",
    "        # array of input neurons (first layer)\n",
    "        self.input = np.empty(shape=layers[0]) \n",
    "        # array of hidden layers\n",
    "        self.hiddens = [] \n",
    "        for i in range(1, len(layers)-1):\n",
    "            self.hiddens.append(np.empty(shape=layers[i]))\n",
    "        # array of output neurons (last layer)\n",
    "        self.output = np.empty(shape=layers[-1]) \n",
    "        # array of weight matrices\n",
    "        self.weights = [] \n",
    "        for i in range(len(layers)-1):\n",
    "            self.weights.append(np.empty(shape=(layers[i+1], layers[i])))\n",
    "        # array of biases\n",
    "        self.biases = []\n",
    "        for i in range(1, len(layers)):\n",
    "            self.biases.append(np.empty(shape=layers[i]))\n",
    "\n",
    "    def init_params_rand(self):\n",
    "        for i in range(len(self.weights)):\n",
    "            self.weights[i] = np.random.rand(\n",
    "                self.weights[i].shape[0], self.weights[i].shape[1])\n",
    "        for i in range(len(self.biases)):\n",
    "            self.biases[i] = np.zeros(shape=self.biases[i].shape)\n",
    "\n",
    "    def __str__(self) -> str:\n",
    "        text = f\"NeuralNetwork object\\n\"\n",
    "        text += f\"Layers: {self.layers}\\n\"\n",
    "        text += \"Shape of weight matrices: [\"\n",
    "        for mat in self.weights:\n",
    "            text += f\"{mat.shape},\"\n",
    "        text = text[:-1]\n",
    "        text += \"]\\n\"\n",
    "        return text\n",
    "\n",
    "nn = NeuralNetwork(layers=[3,2,1])\n",
    "nn.init_params_rand()\n",
    "print(nn)\n",
    "\n"
   ]
  }
 ],
 "metadata": {
  "interpreter": {
   "hash": "916dbcbb3f70747c44a77c7bcd40155683ae19c65e1c03b4aa3499c5328201f1"
  },
  "kernelspec": {
   "display_name": "Python 3.8.10 64-bit",
   "language": "python",
   "name": "python3"
  },
  "language_info": {
   "codemirror_mode": {
    "name": "ipython",
    "version": 3
   },
   "file_extension": ".py",
   "mimetype": "text/x-python",
   "name": "python",
   "nbconvert_exporter": "python",
   "pygments_lexer": "ipython3",
   "version": "3.8.10"
  },
  "orig_nbformat": 4
 },
 "nbformat": 4,
 "nbformat_minor": 2
}
